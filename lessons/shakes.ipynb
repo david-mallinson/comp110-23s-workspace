{
 "cells": [
  {
   "cell_type": "code",
   "execution_count": null,
   "metadata": {},
   "outputs": [],
   "source": []
  },
  {
   "attachments": {},
   "cell_type": "markdown",
   "metadata": {},
   "source": [
    "# Quantifying Shakespear\n",
    "\n",
    "(Data from bit.ly/shakespeare.txt)\n",
    "\n",
    "Read the lines of the data"
   ]
  },
  {
   "cell_type": "code",
   "execution_count": 8,
   "metadata": {},
   "outputs": [
    {
     "name": "stdout",
     "output_type": "stream",
     "text": [
      "124456\n"
     ]
    }
   ],
   "source": [
    "from io import TextIOWrapper\n",
    "\n",
    "def read_lines(filename: str) -> list[str]:\n",
    "    \"\"\"Read a .txt file into a list of strings for each line.\"\"\"\n",
    "    lines: list[str] = []\n",
    "    file_handle: TextIOWrapper = open(filename, \"r\")\n",
    "    for line in file_handle:\n",
    "        #strip leading white space\n",
    "        line = line.strip()\n",
    "        # make everything lowercase\n",
    "        line = line.lower()\n",
    "        lines.append(line)\n",
    "    file_handle.close()\n",
    "    return lines\n",
    "\n",
    "shake_lines: list[str] = read_lines(\"../data/shakespeare.txt\")\n",
    "print(len(shake_lines))"
   ]
  },
  {
   "cell_type": "code",
   "execution_count": 9,
   "metadata": {},
   "outputs": [],
   "source": [
    "def tally(counts: dict[str, int], key: str) -> None:\n",
    "    \"\"\"Mutate counts by increasing the balue stored at key by 1.\"\"\"\n",
    "    if key in counts:\n",
    "        counts[key] += 1\n",
    "    else:\n",
    "        counts[key] = 1"
   ]
  },
  {
   "cell_type": "code",
   "execution_count": 17,
   "metadata": {},
   "outputs": [
    {
     "name": "stdout",
     "output_type": "stream",
     "text": [
      "{'a': 1}\n",
      "{'a': 2}\n",
      "{'a': 2, 'b': 1}\n"
     ]
    }
   ],
   "source": [
    "d: dict[str, int] = {}\n",
    "tally(d, \"a\")\n",
    "print(d)\n",
    "tally(d,\"a\")\n",
    "print(d)\n",
    "tally(d,\"b\")\n",
    "print(d)"
   ]
  },
  {
   "cell_type": "code",
   "execution_count": 1,
   "metadata": {},
   "outputs": [
    {
     "ename": "NameError",
     "evalue": "name 'shake_lines' is not defined",
     "output_type": "error",
     "traceback": [
      "\u001b[0;31m---------------------------------------------------------------------------\u001b[0m",
      "\u001b[0;31mNameError\u001b[0m                                 Traceback (most recent call last)",
      "Cell \u001b[0;32mIn[1], line 10\u001b[0m\n\u001b[1;32m      7\u001b[0m                 tally(counts, char)\n\u001b[1;32m      8\u001b[0m     \u001b[39mreturn\u001b[39;00m counts\n\u001b[0;32m---> 10\u001b[0m shake_letters: \u001b[39mdict\u001b[39m[\u001b[39mstr\u001b[39m, \u001b[39mint\u001b[39m] \u001b[39m=\u001b[39m count_letters(shake_lines)\n\u001b[1;32m     11\u001b[0m \u001b[39mprint\u001b[39m(shake_letters)\n",
      "\u001b[0;31mNameError\u001b[0m: name 'shake_lines' is not defined"
     ]
    }
   ],
   "source": [
    "def count_letters(lines: list[str]) -> dict[str, int]:\n",
    "    \"\"\"Blah.\"\"\"\n",
    "    counts: dict[str,int] = {}\n",
    "    for i in lines:\n",
    "        for char in i:\n",
    "            if char.isalpha():\n",
    "                tally(counts, char)\n",
    "    return counts\n",
    "\n",
    "shake_letters: dict[str, int] = count_letters(shake_lines)\n",
    "print(shake_letters)"
   ]
  },
  {
   "cell_type": "code",
   "execution_count": null,
   "metadata": {},
   "outputs": [],
   "source": []
  },
  {
   "attachments": {},
   "cell_type": "markdown",
   "metadata": {},
   "source": [
    "Visualize date in Bar Graph"
   ]
  },
  {
   "cell_type": "code",
   "execution_count": null,
   "metadata": {},
   "outputs": [],
   "source": [
    "from matplotlib import pyplot\n",
    "\n",
    "pyplot.title(\"letter freq:\")\n",
    "pyplot.xlabel(\"letters\")\n",
    "pyplot.ylabel(\"freq\")\n",
    "x_values: list[str] = skakes_letters_sorted.keys()\n",
    "y_values: list[int] = shake_letters_sorted.values()\n",
    "pyplot.bar(x_values, y_values)"
   ]
  }
 ],
 "metadata": {
  "kernelspec": {
   "display_name": "Python 3",
   "language": "python",
   "name": "python3"
  },
  "language_info": {
   "codemirror_mode": {
    "name": "ipython",
    "version": 3
   },
   "file_extension": ".py",
   "mimetype": "text/x-python",
   "name": "python",
   "nbconvert_exporter": "python",
   "pygments_lexer": "ipython3",
   "version": "3.11.1 (v3.11.1:a7a450f84a, Dec  6 2022, 15:24:06) [Clang 13.0.0 (clang-1300.0.29.30)]"
  },
  "orig_nbformat": 4,
  "vscode": {
   "interpreter": {
    "hash": "aee8b7b246df8f9039afb4144a1f6fd8d2ca17a180786b69acc140d282b71a49"
   }
  }
 },
 "nbformat": 4,
 "nbformat_minor": 2
}
